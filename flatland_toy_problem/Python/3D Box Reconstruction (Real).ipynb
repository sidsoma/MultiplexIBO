{
 "cells": [
  {
   "cell_type": "code",
   "execution_count": 2,
   "id": "675c371c",
   "metadata": {},
   "outputs": [],
   "source": [
    "import torch\n",
    "from torch import nn\n",
    "from torch.functional import F\n",
    "import numpy as np\n",
    "import matplotlib.pyplot as plt\n",
    "import mat73\n",
    "import scipy.io as sio\n",
    "import sys\n",
    "from timeit import default_timer as timer\n",
    "import plotly\n",
    "import plotly.graph_objs as go\n",
    "from matplotlib import pyplot as plt, cm\n",
    "from matplotlib import colors\n",
    "import open3d as o3d\n",
    "from torch import nn\n",
    "import math\n",
    "import trimesh\n",
    "np.set_printoptions(threshold=sys.maxsize)\n",
    "\n",
    "# from utilsReal.optim import Model, training_loop\n",
    "from utilsReal.generateBasis import generateBasisFunction\n",
    "from utilsReal.ray_tracing import *\n",
    "# from utilsReal.helper import computeVisibility3D, pulse, lowPassFilter\n",
    "# from utilsReal.shape import carving"
   ]
  },
  {
   "cell_type": "markdown",
   "id": "f8028c9d",
   "metadata": {},
   "source": [
    "# Import Time Profiles and Visibility Matrix"
   ]
  },
  {
   "cell_type": "code",
   "execution_count": 3,
   "id": "11ec3fbf",
   "metadata": {
    "scrolled": true
   },
   "outputs": [
    {
     "data": {
      "image/png": "[encoded data removed]",
      "text/plain": [
       "<Figure size 432x288 with 2 Axes>"
      ]
     },
     "metadata": {
      "needs_background": "light"
     },
     "output_type": "display_data"
    }
   ],
   "source": [
    "#####################################################################\n",
    "####################### IMPORT TIME PROFILES ########################\n",
    "#####################################################################\n",
    "\n",
    "c = 299792458 # 3E8 / 1.0003\n",
    "\n",
    "# data parameters\n",
    "bin_width = 8E-12\n",
    "t0 = 14.2623e-9; bin0 = round(t0 / bin_width)\n",
    "numBins = 8192 - bin0\n",
    "t = np.linspace(0, bin_width * (numBins-1), numBins)\n",
    "\n",
    "# plot parameters\n",
    "plotImgs = False\n",
    "\n",
    "# detector parameters\n",
    "num_u = 35; num_v = 10 # dimension of video\n",
    "det_locs = sio.loadmat('../../data/multiplexed_twobounce_021322/results.mat')['x_p']\n",
    "det_locs = np.flip(np.reshape(det_locs, (num_v, num_u, 3)), axis=1)\n",
    "# det_locs = np.reshape(det_locs, (num_v, num_u, 3))\n",
    "nc = np.array([0, 0, 1])\n",
    "\n",
    "# laser parameters\n",
    "numSpots_x = 10; numSpots_y = 5\n",
    "lass = np.transpose(sio.loadmat('../../data/multiplexed_twobounce_021322/results.mat')['D'])\n",
    "baseline = np.array([0.257, 0, 0])\n",
    "las_locs = np.zeros((numSpots_y, numSpots_x, 3))\n",
    "for i in range(numSpots_y):\n",
    "    if i%2==0:\n",
    "        las_locs[i, :, :] = np.flip(lass[i*numSpots_x:(1+i)*numSpots_x, :], axis=0)\n",
    "    else: \n",
    "        las_locs[i, :, :] = lass[i*numSpots_x:(1+i)*numSpots_x, :]\n",
    "# las_locs = np.reshape(las_locs, (numSpots_y, numSpots_x, 3))\n",
    "\n",
    "# import reference pulse\n",
    "filename = '../../data/Bounce Flash/replica.mat'\n",
    "pulseShape = np.squeeze(sio.loadmat(filename)['replica'])[bin0:]\n",
    "pulseShape = np.roll(pulseShape, 50-np.argmax(pulseShape))\n",
    "pulseShape = pulseShape / np.max(pulseShape)\n",
    "\n",
    "# import histograms and visibility matrix\n",
    "indiv_hists = np.zeros((numSpots_y, numSpots_x, num_v, num_u, numBins)) \n",
    "observation = np.zeros((num_v, num_u, numBins))\n",
    "vis_gt = np.zeros((numSpots_y, numSpots_x, num_v, num_u))\n",
    "i = 0\n",
    "for y in range(numSpots_y):\n",
    "    for x in range(numSpots_x):\n",
    "        num = str(i+1)\n",
    "#         filename = '../../data/multiplexed_twobounce_021322/no_shadow_spot_' + num + '.mat' \n",
    "        filename = '../../data/multiplexed_twobounce_021322/shadow_spot_' + num + '.mat'\n",
    "        dataCube = mat73.loadmat(filename)['dataCube']\n",
    "        dataCube_r = np.reshape(dataCube[:, bin0:], (num_v, num_u, numBins))\n",
    "        dataCube_r = np.flip(dataCube_r, axis=1)\n",
    "        t_int = np.max(dataCube_r, 2)\n",
    "        \n",
    "        if (y+1) % 2 == 0:\n",
    "            x_idx = x\n",
    "        else: \n",
    "            x_idx = numSpots_x - x - 1\n",
    "        \n",
    "        # store data\n",
    "        indiv_hists[y, x_idx, :, :, :] = dataCube_r\n",
    "        observation += dataCube_r\n",
    "        vis_gt[y, x_idx, :, :] = t_int\n",
    "\n",
    "        # plot time-integrated images\n",
    "        if plotImgs:\n",
    "            plt.figure(); plt.title('y = ' + str(y+1) + ', x = ' + str(x_idx+1))\n",
    "            im = plt.imshow(t_int, cmap=cm.rainbow, norm=colors.LogNorm(), origin='lower')\n",
    "            plt.colorbar(im)\n",
    "        i += 1\n",
    "        \n",
    "# # indiv_hists2 = lowPassFilter(t, indiv_hists, bin_width, 0.7E10, False)\n",
    "# observations = np.sum(indiv_hists, axis=1)\n",
    "\n",
    "# plot superimposed image\n",
    "plt.figure(); plt.title('Composite Image')\n",
    "im = plt.imshow(np.sum(observation, 2), cmap=cm.rainbow, norm=colors.LogNorm(), origin='lower')\n",
    "plt.colorbar(im)\n",
    "plt.show()"
   ]
  },
  {
   "cell_type": "markdown",
   "id": "171a68bd",
   "metadata": {},
   "source": [
    "# Estimate pixel-wise albedos"
   ]
  },
  {
   "cell_type": "code",
   "execution_count": 7,
   "id": "b1b98379",
   "metadata": {},
   "outputs": [],
   "source": [
    "def dot(vec1, vec2):\n",
    "    # input: m x n x 3 matrices\n",
    "    return np.sum(vec1 * vec2, axis=-1)"
   ]
  },
  {
   "cell_type": "code",
   "execution_count": 8,
   "id": "5a4b50b5",
   "metadata": {},
   "outputs": [],
   "source": [
    "a = 1\n",
    "\n",
    "# estimate laser wall albedos\n",
    "w1c = -las_locs\n",
    "n1 = np.array([1, 0, 0])\n",
    "E1 = np.squeeze(sio.loadmat('../../data/multiplexed_twobounce_021322/results.mat')['E1'])\n",
    "Q1 = np.zeros((numSpots_y, numSpots_x))\n",
    "for i in range(numSpots_y):\n",
    "    if i%2==0:\n",
    "        Q1[i, :] = np.flip(E1[i*numSpots_x:(1+i)*numSpots_x])\n",
    "    else: \n",
    "        Q1[i, :] = E1[i*numSpots_x:(1+i)*numSpots_x]\n",
    "r1c = 1\n",
    "rho1 =  a * (Q1 * r1c**2) / (dot(w1c, n1) * dot(-w1c, nc))"
   ]
  },
  {
   "cell_type": "code",
   "execution_count": 10,
   "id": "5d6d41d3",
   "metadata": {},
   "outputs": [
    {
     "data": {
      "text/plain": [
       "(5, 10)"
      ]
     },
     "execution_count": 10,
     "metadata": {},
     "output_type": "execute_result"
    }
   ],
   "source": [
    "rho1.shape"
   ]
  },
  {
   "cell_type": "code",
   "execution_count": 5,
   "id": "3d56013f",
   "metadata": {},
   "outputs": [
    {
     "data": {
      "text/plain": [
       "(5, 10, 10, 35, 6409)"
      ]
     },
     "execution_count": 5,
     "metadata": {},
     "output_type": "execute_result"
    }
   ],
   "source": [
    "indiv_hists.shape"
   ]
  },
  {
   "cell_type": "markdown",
   "id": "294a0985",
   "metadata": {},
   "source": [
    "# Generate and Plot Basis Vectors"
   ]
  },
  {
   "cell_type": "code",
   "execution_count": null,
   "id": "a79e6900",
   "metadata": {},
   "outputs": [],
   "source": [
    "tofs, basisHists = generateBasisFunction(las_locs, det_locs, t, baseline, pulseShape, bin_width, c)\n",
    "\n",
    "testy = 9; testx = 30\n",
    "i1 = 800; i2 = 1800\n",
    "for y in range(numSpots_y):\n",
    "    for x in range(numSpots_x):\n",
    "        a = indiv_hists[y, x, testy, testx, :]\n",
    "        \n",
    "        plt.figure(); \n",
    "        plt.plot(t[i1:i2], a[i1:i2])\n",
    "        scale = np.max(a)\n",
    "        \n",
    "        b = scale*basisHists[y, x, testy, testx, :]\n",
    "        plt.plot(t[i1:i2], b[i1:i2])\n",
    "\n",
    "        plt.title('y = ' + str(y+1) + ', x = ' + str(x+1))"
   ]
  },
  {
   "cell_type": "markdown",
   "id": "0fc5481d",
   "metadata": {},
   "source": [
    "# Compute Visibility Matrix"
   ]
  },
  {
   "cell_type": "code",
   "execution_count": null,
   "id": "a1f7e39a",
   "metadata": {
    "scrolled": false
   },
   "outputs": [],
   "source": [
    "from skimage.filters import threshold_otsu\n",
    "lit_pts = []; shadow_pts = []; illum_pts = np.zeros((50, 3))\n",
    "i = 0\n",
    "vis_gt_bin = np.zeros((numSpots_y, numSpots_x, num_v, num_u))\n",
    "for y in range(numSpots_y):\n",
    "    for x in range(numSpots_x):\n",
    "        r_squared = np.linalg.norm(np.reshape(las_locs[y, x, :], (1, 1, 3)) - det_locs, axis=2)**2\n",
    "        a = np.copy(vis_gt[y, x, :, :]) * r_squared; #a[0, 0] = 0\n",
    "        thresh = threshold_otsu(np.log(a))\n",
    "        binary = (np.log(a) > thresh).astype(int)\n",
    "#         a[0, 1] = 0; \n",
    "        \n",
    "        # plot images\n",
    "        plt.figure(); plt.title('y = ' + str(y+1) + ', x = ' + str(x+1))\n",
    "        plt.subplot(1, 2, 1);\n",
    "        im = plt.imshow(a, cmap=cm.rainbow, norm=colors.LogNorm(), origin='lower')\n",
    "        plt.subplot(1, 2, 2);\n",
    "        im = plt.imshow(binary, cmap=cm.rainbow, origin='lower')\n",
    "\n",
    "        # store values for space carving\n",
    "        illum_pts[i, :] = las_locs[y, x, :]\n",
    "        \n",
    "        lit_idx = np.nonzero(binary)[0:2]\n",
    "        inLit = det_locs[lit_idx[0], lit_idx[1], :]\n",
    "        lit_pts.append(inLit)\n",
    "        \n",
    "        shad_idx = np.nonzero(1-binary)[0:2]\n",
    "        inShadow = det_locs[shad_idx[0], shad_idx[1], :]\n",
    "        shadow_pts.append(inShadow)        \n",
    "        \n",
    "        vis_gt_bin[y, x, :, :] = binary\n",
    "        i += 1"
   ]
  },
  {
   "cell_type": "code",
   "execution_count": null,
   "id": "21d98d32",
   "metadata": {},
   "outputs": [],
   "source": [
    "for r in range(0, 50):\n",
    "    light = lit_pts[r] \n",
    "    shade = shadow_pts[r]\n",
    "    source = illum_pts[r, :] \n",
    "\n",
    "    # Creating figure\n",
    "    fig = plt.figure(figsize = (10, 7))\n",
    "    ax = plt.axes(projection =\"3d\")\n",
    "\n",
    "    # Creating plot\n",
    "    a1 = 0; a2 = 2; a3 = 1\n",
    "    ax.scatter3D(-source[a1], source[a2], source[a3], color = \"red\")\n",
    "    ax.scatter3D(-light[:, a1], light[:, a2], light[:, a3], color = \"green\")\n",
    "    ax.scatter3D(-shade[:, a1], shade[:, a2], shade[:, a3], color = \"blue\")\n",
    "    plt.title(\"simple 3D scatter plot\")\n",
    "\n",
    "    # ax.view_init(-40, 120)\n",
    "    # ax.view_init(0, 180)\n",
    "\n",
    "    plt.draw()"
   ]
  },
  {
   "cell_type": "code",
   "execution_count": null,
   "id": "f8ed5a22",
   "metadata": {},
   "outputs": [],
   "source": [
    "print(illum_pts)"
   ]
  },
  {
   "cell_type": "markdown",
   "id": "480aa45d",
   "metadata": {},
   "source": [
    "# Plot Detector and Laser Positions"
   ]
  },
  {
   "cell_type": "code",
   "execution_count": null,
   "id": "3d9f592f",
   "metadata": {},
   "outputs": [],
   "source": [
    "# detector order is reversed (farthest z to closest x) \n",
    "# laser order is scan along x, then move up along y in continuous motion (same for detector)\n",
    "\n",
    "plt.figure()\n",
    "for i in range(num_v):\n",
    "    if i%2== 0:\n",
    "        plt.plot(det_locs[i, :, 2], det_locs[i, :, 1], 'or')\n",
    "    else:\n",
    "        plt.plot(det_locs[i, :, 2], det_locs[i, :, 1], 'ob')\n",
    "y = 0; x = 0\n",
    "print(det_locs[y, x, :])\n",
    "plt.plot(det_locs[y, x, 2], det_locs[y, x, 1], 'og')\n",
    "    \n",
    "plt.figure()\n",
    "for i in range(numSpots_y):\n",
    "    if i%2== 0:\n",
    "        plt.plot(las_locs[i, :, 2], las_locs[i, :, 1], 'or')\n",
    "    else:\n",
    "        plt.plot(las_locs[i, :, 2], las_locs[i, :, 1], 'ob')\n",
    "x = -1; y = 0\n",
    "print(las_locs[y, x, :])\n",
    "plt.plot(las_locs[y, x, 2], las_locs[y, x, 1], 'og')"
   ]
  },
  {
   "cell_type": "markdown",
   "id": "97ee61f5",
   "metadata": {},
   "source": [
    "# Helper Functions"
   ]
  },
  {
   "cell_type": "code",
   "execution_count": null,
   "id": "91464fec",
   "metadata": {},
   "outputs": [],
   "source": [
    "class Model(nn.Module):\n",
    "    \"\"\"Custom Pytorch model for gradient optimization.\n",
    "    \"\"\"\n",
    "    def __init__(self, numSpots_y, numSpots_x, numPixels_y, numPixels_x):\n",
    "        super().__init__()\n",
    "        # initialize weights with random numbers\n",
    "        vis = torch.rand(numSpots_y, numSpots_x, numPixels_y, numPixels_x)\n",
    "        vis = torch.where(vis > 0.5, 1.0, 0.0)\n",
    "        \n",
    "        # make weights torch parameters\n",
    "        self.vis = nn.Parameter(vis, requires_grad = True)      \n",
    "        \n",
    "    def forward(self, hists):\n",
    "        \"\"\"Implement function to be optimised. In this case, an exponential decay\n",
    "        function (a + exp(-k * X) + b),\n",
    "        \"\"\"\n",
    "#         vis = torch.sigmoid(self.vis)\n",
    "        vis = self.vis\n",
    "        obs = torch.sum(hists * vis.unsqueeze(-1), axis=(0, 1))\n",
    "        return obs\n",
    "\n",
    "def training_loop(model, histograms, observations, optimizer, thresh, lam, n=1000):\n",
    "    \"Training loop for torch model.\"\n",
    "    losses = []\n",
    "    prev_loss = 0\n",
    "    for i in range(n):\n",
    "        preds = model(histograms)\n",
    "        loss1 = F.mse_loss(preds, observations) \n",
    "        loss2 = torch.sum(torch.square(torch.diff(model.vis, n=1, axis=0))) + torch.sum(torch.square(torch.diff(model.vis, n=1, axis=1))) \n",
    "        + torch.sum(torch.square(torch.diff(model.vis, n=1, axis=2))) + torch.sum(torch.square(torch.diff(model.vis, n=1, axis=3))) \n",
    "        loss = loss1 + lam * loss2\n",
    "        cur_loss = loss.detach().numpy()\n",
    "        losses.append(cur_loss)  \n",
    "        if np.abs(prev_loss-cur_loss) < thresh:\n",
    "            break\n",
    "        loss.backward()\n",
    "#         print(model.debug_v.grad.data)\n",
    "        optimizer.step()\n",
    "        optimizer.zero_grad()\n",
    "        if i % 10 == 0:\n",
    "            print(str(i) + \" iterations complete\")\n",
    "    return losses"
   ]
  },
  {
   "cell_type": "markdown",
   "id": "23094615",
   "metadata": {},
   "source": [
    "# Time Domain Optimization"
   ]
  },
  {
   "cell_type": "code",
   "execution_count": null,
   "id": "67a808ef",
   "metadata": {
    "scrolled": false
   },
   "outputs": [],
   "source": [
    "#####################################################################\n",
    "####### SOLVE INVERSE PROBLEM (RECONSTRUCT VISIBILITY MATRIX) #######\n",
    "#####################################################################\n",
    "\n",
    "obs = np.sum(indiv_hists, axis=(0, 1))\n",
    "print(obs.shape)\n",
    "\n",
    "c = 299792458 # 3E8 / 1.0003\n",
    "\n",
    "# optimization parameters\n",
    "numIters = 1000\n",
    "thresh = 1E-100\n",
    "lr_rate = 0.1\n",
    "lam = 1E-5 # 5E2 for noiseless case\n",
    "\n",
    "# plotting parameters\n",
    "plotError = True\n",
    "\n",
    "# gradient descent\n",
    "m = Model(numSpots_y, numSpots_x, num_v, num_u)\n",
    "opt = torch.optim.Adam(m.parameters(), lr=lr_rate)\n",
    "\n",
    "obs_filt = torch.tensor(obs)\n",
    "hists_norm = torch.tensor(basisHists)\n",
    "\n",
    "losses = training_loop(m, hists_norm, obs_filt, opt, thresh, lam, n=numIters)\n",
    "vis = m.vis.detach()\n",
    "# vis = torch.sigmoid(vis)\n",
    "v_reconst = vis\n",
    "# v_reconst = torch.where(vis > 0.5, 1, 0).numpy()\n",
    "# v_reconst = bruteForce(np.ones((numPixels, numSpots)), hists.detach().numpy(), observations.detach().numpy())\n",
    "\n",
    "# plot optimization loss\n",
    "if plotError:\n",
    "    plt.figure(figsize=(14, 7))\n",
    "    plt.plot(losses)\n",
    "\n",
    "for y in range(numSpots_y):\n",
    "    for x in range(numSpots_x):\n",
    "        # plot visibility matrix\n",
    "        plt.figure(figsize=(15, 5))\n",
    "        plt.subplot(1, 3, 1)\n",
    "        plt.title('Reconstructed')\n",
    "        plt.pcolormesh(v_reconst[y, x, :, :]); plt.colorbar()\n",
    "        plt.xlabel('Intensity (x)'); plt.ylabel('Intensity (y)')\n",
    "        # plt.title('t0 = ' + str(t0))\n",
    "\n",
    "        plt.subplot(1, 3, 2)\n",
    "        plt.title('Ground Truth')\n",
    "        plt.pcolormesh(vis_gt[y, x, :, :]); plt.colorbar()\n",
    "        plt.xlabel('Intensity (x)'); plt.ylabel('Intensity (y)')\n",
    "        \n",
    "        plt.subplot(1, 3, 3)\n",
    "        plt.title('Ground Truth')\n",
    "        plt.pcolormesh(vis_gt_bin[y, x, :, :]); plt.colorbar()\n",
    "        plt.xlabel('Intensity (x)'); plt.ylabel('Intensity (y)')\n",
    "\n",
    "# compare ground truth visibility matrix\n",
    "# error = np.sum(np.abs(v_reconst-vis_gt))\n",
    "# pct_error = 100 * error / (numSpots_y * numPixels_z * numPixels_y)\n",
    "# print(str(error) + ' / ' + str(numPixels_z * numPixels_y * numSpots_y) + ' entries in visibility matrix misclassified')\n",
    "# print(str(pct_error) + '% of entries in visibility matrix misclassified')\n",
    "\n",
    "# onesToZero = np.sum(np.abs(v_reconst-vis_gt) * vis_gt)\n",
    "# print(str(onesToZero) + ' ones flipped to zeros')\n",
    "# print(str(100 * onesToZero / error) + '% of misclassified entries were ones flipped to zeros')\n",
    "# end = timer()\n",
    "# print(end - start)"
   ]
  },
  {
   "cell_type": "markdown",
   "id": "01531acd",
   "metadata": {},
   "source": [
    "# Space Carving"
   ]
  },
  {
   "cell_type": "code",
   "execution_count": null,
   "id": "92301401",
   "metadata": {
    "scrolled": true
   },
   "outputs": [],
   "source": [
    "# IMPLEMENT BOUNCE_FLASH_ROBUST_CARVING_SCRIPT\n",
    "class voxelGrid():\n",
    "    def __init__(self, x_lims, y_lims, z_lims, num_x, num_y, num_z):\n",
    "        self.x_lims = x_lims\n",
    "        self.y_lims = y_lims\n",
    "        self.z_lims = z_lims\n",
    "        self.num_x = num_x\n",
    "        self.num_y = num_y\n",
    "        self.num_z = num_z\n",
    "        self.volume = np.zeros((num_x, num_y, num_z))\n",
    "\n",
    "# discretize hidden space\n",
    "x_lims = np.array([-0.13, 0.4])\n",
    "y_lims = np.array([-0.3, -0.05])\n",
    "z_lims = np.array([0.8, 1.3])\n",
    "num_x = 20\n",
    "num_y = 20\n",
    "num_z = 20\n",
    "outside_voxel = voxelGrid(x_lims, y_lims, z_lims, num_x, num_y, num_z)\n",
    "inside_voxel = voxelGrid(x_lims, y_lims, z_lims, num_x, num_y, num_z)\n",
    "\n",
    "# count number of times lit and shadow pixel intersects voxel\n",
    "print(\"Commence Robust Carving\")\n",
    "for i in range(len(lit_pts)):\n",
    "    # lit_pts = 17 x 1 list (contains pixels not in shadow for each light source)\n",
    "    # shadow_pts = 17 x 1 list (contains pixels in shadow for each light source)\n",
    "    # illum_pts = 17 x 3 double (contains locations of light sources)\n",
    "    outside_voxel, inside_voxel = robust_carving_frame(outside_voxel, inside_voxel, illum_pts[i, :], \n",
    "                                                         lit_pts[i], shadow_pts[i])\n",
    "    print(i)"
   ]
  },
  {
   "cell_type": "code",
   "execution_count": null,
   "id": "22d3675a",
   "metadata": {},
   "outputs": [],
   "source": [
    "# probabilistic space carving\n",
    "eta = .05 # Probability occupied voxel is traced to illuminated region (miss probability) --> higher = undervarve\n",
    "xi = 0.5 # Probability that an empty voxel is traced to shadow (probability false alarm) --> higher = overcarve\n",
    "p0 = 0.8 # Prior probability that any voxel is empty\n",
    "p1 = 0.2 # Prior probability that any voxel is occupied\n",
    "T = 0.8 # Probability threshold to decide that voxel is occupied\n",
    "\n",
    "m = np.linspace(0, len(lit_pts), len(lit_pts)+1) \n",
    "n = np.linspace(0, len(lit_pts), len(lit_pts)+1) \n",
    "[M, N] = np.meshgrid(m, n)\n",
    "PO = p1 * (eta**M) * ((1-eta)**N)/(p0*((1-xi)**M)*(xi**N) + p1*(eta**M)*((1-eta)**N))\n",
    "\n",
    "# visualize 3D reconstruction\n",
    "testDets = np.zeros((num_u*num_v, 3))\n",
    "testLas = np.zeros((numSpots_x*numSpots_y, 3))\n",
    "i = 0\n",
    "for x in range(num_u):\n",
    "    for y in range(num_v):\n",
    "        testDets[i, :] = det_locs[y, x, :]\n",
    "        i += 1\n",
    "i = 0\n",
    "for x in range(numSpots_x):\n",
    "    for y in range(numSpots_y):\n",
    "        testLas[i, :] = las_locs[y, x, :]\n",
    "        i += 1\n",
    "volume, probability_volume = visualize_probablistic(inside_voxel, outside_voxel, PO, T, testLas, testDets, True)"
   ]
  },
  {
   "cell_type": "markdown",
   "id": "33e9a4cb",
   "metadata": {},
   "source": [
    "# Plotting Code"
   ]
  },
  {
   "cell_type": "code",
   "execution_count": null,
   "id": "29f50bd6",
   "metadata": {},
   "outputs": [],
   "source": [
    "t_int = np.sum(observation, 2)\n",
    "plt.figure(); #plt.title('y = ' + str(y+1) + ', x = ' + str(x_idx+1))\n",
    "im = plt.imshow(t_int, cmap=cm.rainbow, norm=colors.LogNorm(), origin='lower')\n",
    "plt.axis('off')\n",
    "# plt.savefig('composite.png')\n",
    "# plt.colorbar(im)"
   ]
  },
  {
   "cell_type": "code",
   "execution_count": null,
   "id": "d2c41b5e",
   "metadata": {},
   "outputs": [],
   "source": [
    "if False:\n",
    "    xShape = np.linspace(-0.13, 0.4)\n",
    "    yShape = np.linspace(-0.3, -0.05)\n",
    "    zShape = np.linspace(0.8, 1.3)\n",
    "    X, Y, Z = np.meshgrid(xShape, yShape, zShape)\n",
    "    testShape = np.stack((np.ndarray.flatten(X), np.ndarray.flatten(Y), np.ndarray.flatten(Z)), axis=0)\n",
    "    testShape = np.transpose(testShape)\n",
    "\n",
    "    testDets = np.zeros((num_u*num_v, 3))\n",
    "    testLas = np.zeros((numSpots_x*numSpots_y, 3))\n",
    "    i = 0\n",
    "    for x in range(num_u):\n",
    "        for y in range(num_v):\n",
    "            testDets[i, :] = det_locs[y, x, :]\n",
    "            i += 1\n",
    "    i = 0\n",
    "    for x in range(numSpots_x):\n",
    "        for y in range(numSpots_y):\n",
    "            testLas[i, :] = las_locs[y, x, :]\n",
    "            i += 1\n",
    "    print(testDets.shape)\n",
    "    print(testLas.shape)\n",
    "    print(testShape.shape)\n",
    "    ptCloud = np.vstack((testDets, testLas, testShape))\n",
    "    pcd = o3d.geometry.PointCloud()\n",
    "    pcd.points = o3d.utility.Vector3dVector(ptCloud)\n",
    "    o3d.io.write_point_cloud(\"../../data/multiplexed_twobounce_021322/result.ply\", pcd)\n",
    "\n",
    "    # Visualize point cloud (WARNING: This will open another window and you will be forced to kill kernal)\n",
    "    if True:\n",
    "        cloud = o3d.io.read_point_cloud(\"../../data/multiplexed_twobounce_021322/result.ply\") # Read the point cloud\n",
    "        o3d.visualization.draw_geometries([cloud])"
   ]
  },
  {
   "cell_type": "markdown",
   "id": "628e9b76",
   "metadata": {},
   "source": [
    "# Miscellaneous Functions"
   ]
  },
  {
   "cell_type": "code",
   "execution_count": null,
   "id": "6055a568",
   "metadata": {},
   "outputs": [],
   "source": [
    "def lowPassFilter(t, a, bin_width, w_thresh):\n",
    "    # a = numDets_y x numDets_x x numBins\n",
    "    # compute fft\n",
    "    a_fft = np.fft.fft(a, axis=-1)\n",
    "    a_fft_shift = np.fft.fftshift(a_fft, axes=-1)\n",
    "    f = np.fft.fftfreq(len(t), bin_width)\n",
    "    f_shift = np.reshape(np.fft.fftshift(f, axes=-1), (1, 1, len(t)))\n",
    "        \n",
    "    # compute lowpass reconstruction\n",
    "    fft_filtered = a_fft_shift * (np.abs(f_shift) < w_thresh)\n",
    "    \n",
    "    rec_filt = np.real(np.fft.ifft(np.fft.fftshift(fft_filtered, axes=-1), axis=-1))\n",
    "\n",
    "    return rec_filt"
   ]
  },
  {
   "cell_type": "code",
   "execution_count": null,
   "id": "ac71a21f",
   "metadata": {},
   "outputs": [],
   "source": [
    "# def moving_average(x, w):\n",
    "#     return np.convolve(x, np.ones(w), 'same') / w\n",
    "\n",
    "# i1 = 1300; i2 = 1800 \n",
    "# # i1 = 0; i2 = -1\n",
    "\n",
    "# # plot individual histograms\n",
    "# leg = []\n",
    "# plt.figure()\n",
    "# pixelHist = indiv_hists[i, 8, 5, i1:i2]\n",
    "# observation = np.zeros((num_v, num_u, numBins))\n",
    "# for i in range(20, 30-8):\n",
    "#     a = lowPassFilter(t, indiv_hists[i, 8, 5, :], bin_width, 2E10, False)\n",
    "#     a = moving_average(a, 10)\n",
    "# #     a = moving_average(indiv_hists[i, 8, 5, :], 1)\n",
    "#     observation += a\n",
    "#     plt.plot(t[i1:i2], a[i1:i2])\n",
    "#     leg.append('spot # ' + str(i+1))\n",
    "\n",
    "# # plot superimposed histogram\n",
    "# # observation = np.sum(indiv_hists[20:30, :, :, :] , axis=0)\n",
    "# print(observation.shape)\n",
    "# # plt.figure()\n",
    "# pixelHist = observation[8, 5, :]\n",
    "# plt.plot(t[i1:i2], pixelHist[i1:i2])\n",
    "# leg.append('Cumulative Histograms')\n",
    "# plt.plot(t[i1:i2], np.roll(10 * pulseShape, 1400)[i1:i2])\n",
    "# leg.append('Reference')\n",
    "# plt.legend(leg)"
   ]
  },
  {
   "cell_type": "markdown",
   "id": "63dab2fc",
   "metadata": {},
   "source": [
    "# Plot Point Cloud"
   ]
  },
  {
   "cell_type": "code",
   "execution_count": null,
   "id": "e03824e5",
   "metadata": {},
   "outputs": [],
   "source": [
    "if False:\n",
    "    # Save x, y, z data to .ply file if needed\n",
    "    testDets = np.zeros((num_u*num_v, 3))\n",
    "    testLas = np.zeros((numSpots_x*numSpots_y, 3))\n",
    "    i = 0\n",
    "    for x in range(num_u):\n",
    "        for y in range(num_v):\n",
    "            testDets[i, :] = det_locs[y, x, :]\n",
    "            i += 1\n",
    "    i = 0\n",
    "    for x in range(numSpots_x):\n",
    "        for y in range(numSpots_y):\n",
    "            testLas[i, :] = las_locs[y, x, :]\n",
    "            i += 1\n",
    "\n",
    "    comb_locs = np.vstack((testLas, testDets))\n",
    "    if False:\n",
    "        pcd = o3d.geometry.PointCloud()\n",
    "        pcd.points = o3d.utility.Vector3dVector(comb_locs)\n",
    "        o3d.io.write_point_cloud(\"../../data/multiplexed_twobounce_021322/comb.ply\", pcd)\n",
    "\n",
    "    # Visualize point cloud (WARNING: This will open another window and you will be forced to kill kernal)\n",
    "    if False:\n",
    "        cloud = o3d.io.read_point_cloud(\"../../data/multiplexed_twobounce_021322/comb.ply\") # Read the point cloud\n",
    "        o3d.visualization.draw_geometries([cloud])"
   ]
  }
 ],
 "metadata": {
  "kernelspec": {
   "display_name": "Python 3 (ipykernel)",
   "language": "python",
   "name": "python3"
  },
  "language_info": {
   "codemirror_mode": {
    "name": "ipython",
    "version": 3
   },
   "file_extension": ".py",
   "mimetype": "text/x-python",
   "name": "python",
   "nbconvert_exporter": "python",
   "pygments_lexer": "ipython3",
   "version": "3.9.7"
  }
 },
 "nbformat": 4,
 "nbformat_minor": 5
}
