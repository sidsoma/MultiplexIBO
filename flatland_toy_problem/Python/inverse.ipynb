{
 "cells": [
  {
   "cell_type": "code",
   "execution_count": 1,
   "id": "675c371c",
   "metadata": {},
   "outputs": [],
   "source": [
    "import torch\n",
    "import numpy as np\n",
    "import scipy\n",
    "import scipy.io as sio\n",
    "import matplotlib.pyplot as plt\n",
    "from torch import nn\n",
    "from torch.functional import F"
   ]
  },
  {
   "cell_type": "code",
   "execution_count": 2,
   "id": "a7f72756",
   "metadata": {},
   "outputs": [],
   "source": [
    "############# SYNTHETHIC DATA GENERATION #############\n",
    "def generateData(las_x, las_y, det_x, det_y, numSpots, numPixels, \n",
    "                 visibility, numBins, plotDat, usePulse=False, pulseWidth=None, t=None):  \n",
    "    ############\n",
    "    # INPUTS: \n",
    "    #   visibility = numPixels x numSpots\n",
    "    # OUTPUTS:\n",
    "    #   hists = numPixels x numSpots x numBins tensor\n",
    "    #   observations = numPixels x numBins tensor\n",
    "    ############\n",
    "    # constant variables\n",
    "    c = 3E8   \n",
    "    # compute histograms\n",
    "    observations = torch.zeros((numPixels, numBins))\n",
    "    hists = torch.zeros((numPixels, numSpots, numBins))\n",
    "    for i in range(numPixels):\n",
    "        for j in range(numSpots):\n",
    "            x1 = las_x[j]; y1 = las_y[j]; x2 = det_x[i]; y2 = det_y[i]\n",
    "            pathLen = (x1**2+y1**2)**0.5 + ((x2-x1)**2+(y2-y1))**0.5 + (x2**2+y2**2)**0.5\n",
    "            t0 = pathLen / c\n",
    "            if usePulse == False:\n",
    "                if t is None:\n",
    "                    raise Exception(\"t vector must be specified for rect pulses\")\n",
    "                a = rectangularPulse(t0, t0+pulseWidth, t)\n",
    "            elif usePulse == True:\n",
    "                t, a = pulse(t0, numBins)\n",
    "                a = torch.squeeze(torch.tensor(a))\n",
    "            hists[i, j, :] = a\n",
    "            if visibility[i, j] == 1:\n",
    "                observations[i, :] = observations[i, :] + a\n",
    "    \n",
    "    # plot data\n",
    "    if plotData:\n",
    "        # plot source and illumination\n",
    "        plt.figure()\n",
    "        plt.title('Setup')\n",
    "        plt.plot(las_x, las_y, 'or')\n",
    "        plt.plot(det_x, det_y, 'ob')\n",
    "        plt.plot(0, 0, 'og')\n",
    "        plt.xlim([-2, 2])\n",
    "        plt.ylim([-0.5, 2])\n",
    "        plt.legend(['laser', 'detector', 'iPhone'])\n",
    "        plt.xlabel('x (m)')\n",
    "        plt.ylabel('y (m)')     \n",
    "        # plot simulated histograms\n",
    "        for i in range(numPixels):\n",
    "            plt.figure()\n",
    "            a = observations[i, :]\n",
    "            plt.plot(t * 1E9, a)\n",
    "            plt.xlabel('time (ns)')\n",
    "            plt.ylabel('intensity (a.u)')\n",
    "            plt.title('Observation at pixel ' + str(i+1))\n",
    "            \n",
    "    return observations, hists"
   ]
  },
  {
   "cell_type": "code",
   "execution_count": 3,
   "id": "f9de908a",
   "metadata": {},
   "outputs": [],
   "source": [
    "###################### OPTIMIZATION FUNCTION #########################\n",
    "class Model(nn.Module):\n",
    "    \"\"\"Custom Pytorch model for gradient optimization.\n",
    "    \"\"\"\n",
    "    def __init__(self):\n",
    "        super().__init__()\n",
    "        # initialize weights with random numbers\n",
    "        vis = torch.rand(numPixels, numSpots)\n",
    "        \n",
    "        # make weights torch parameters\n",
    "        self.vis = nn.Parameter(vis, requires_grad = True)      \n",
    "        \n",
    "    def forward(self, hists):\n",
    "        \"\"\"Implement function to be optimised. In this case, an exponential decay\n",
    "        function (a + exp(-k * X) + b),\n",
    "        \"\"\"\n",
    "#         vis = self.vis\n",
    "#         self.a, self.b, self.c = torch.tensor(0., requires_grad=True), \n",
    "#         torch.tensor(1., requires_grad=True), torch.tensor(0.5, requires_grad=True)\n",
    "        vis = (self.vis - torch.min(self.vis)) / (torch.max(self.vis) - torch.min(self.vis))\n",
    "        if False:\n",
    "            relu = MyReLU.apply\n",
    "            vis = relu(vis)\n",
    "#         self.debug_v = torch.where(self.vis > 0.5, 1.0, 0.0)\n",
    "#         print(self.debug_v.requires_grad)\n",
    "#         self.debug_v = torch.where(self.vis > self.c, self.a, self.b)\n",
    "#         self.debug_v.requires_grad = True\n",
    "#         self.debug_v = self.vis\n",
    "#         self.debug_v.retain_grad()\n",
    "        obs = torch.sum(vis.unsqueeze(-1) * hists, 1)\n",
    "        return obs\n",
    "\n",
    "def training_loop(model, histograms, optimizer, thresh, n=1000):\n",
    "    \"Training loop for torch model.\"\n",
    "    losses = []\n",
    "    for i in range(n):\n",
    "        preds = model(histograms)\n",
    "        loss = F.mse_loss(preds, observations)#.sqrt()\n",
    "        losses.append(loss.detach().numpy())  \n",
    "        if loss < thresh:\n",
    "            break\n",
    "        loss.backward()\n",
    "#         print(model.debug_v.grad.data)\n",
    "        optimizer.step()\n",
    "        optimizer.zero_grad()\n",
    "    return losses"
   ]
  },
  {
   "cell_type": "code",
   "execution_count": 4,
   "id": "de496945",
   "metadata": {},
   "outputs": [],
   "source": [
    "############# HELPER FUNCTIONS #####################\n",
    "\n",
    "def rectangularPulse(t1, t2, t):\n",
    "    if np.min(t) > t1 or np.max(t) < t2:\n",
    "        raise Exception('check t bounds')\n",
    "    return torch.tensor(((t >= t1) * (t <= t2)))\n",
    "\n",
    "def pulse(t0, numBins):\n",
    "    a = sio.loadmat('../pulseShapes_confidential.mat')\n",
    "    a = a['pulseNP']\n",
    "    numPad = numBins - len(a)\n",
    "    a = np.pad(a, (0, numPad), 'edge'); a = a[:, 0]\n",
    "    t = np.linspace(0, 100E-12 * (numBins-1), numBins)\n",
    "    a = np.roll(a, round(t0 / 100E-12))\n",
    "    return t, a\n",
    "\n",
    "\n",
    "# Optimization Function\n",
    "class MyReLU(torch.autograd.Function):\n",
    "    \"\"\"\n",
    "    We can implement our own custom autograd Functions by subclassing\n",
    "    torch.autograd.Function and implementing the forward and backward passes\n",
    "    which operate on Tensors.\n",
    "    \"\"\"\n",
    "\n",
    "    @staticmethod\n",
    "    def forward(ctx, input):\n",
    "        \"\"\"\n",
    "        In the forward pass we receive a Tensor containing the input and return\n",
    "        a Tensor containing the output. ctx is a context object that can be used\n",
    "        to stash information for backward computation. You can cache arbitrary\n",
    "        objects for use in the backward pass using the ctx.save_for_backward method.\n",
    "        \"\"\"\n",
    "        ctx.save_for_backward(input)\n",
    "#         return input.clamp(min=0.0)\n",
    "        return torch.where(input > 0.5, 1.0, 0.0)\n",
    "\n",
    "    @staticmethod\n",
    "    def backward(ctx, grad_output):\n",
    "        \"\"\"\n",
    "        In the backward pass we receive a Tensor containing the gradient of the loss\n",
    "        with respect to the output, and we need to compute the gradient of the loss\n",
    "        with respect to the input.\n",
    "        \"\"\"\n",
    "        o = 0.49\n",
    "        a = 0.5 - o; b = 0.5 + o\n",
    "        m = 1/(b-a)\n",
    "        input, = ctx.saved_tensors\n",
    "#         grad_input = grad_output.clone()\n",
    "#         grad_input[input < 0] = 0.0\n",
    "#         print(type(torch.where((input < a or input > b), 0.0, m)))\n",
    "        return grad_output * torch.where((input < a) & (input > b), 0.0, m)"
   ]
  },
  {
   "cell_type": "code",
   "execution_count": 5,
   "id": "1a5ea343",
   "metadata": {},
   "outputs": [
    {
     "data": {
      "text/plain": [
       "[<matplotlib.lines.Line2D at 0x7f97441129a0>]"
      ]
     },
     "execution_count": 5,
     "metadata": {},
     "output_type": "execute_result"
    },
    {
     "data": {
      "image/png": "[encoded data removed]",
      "text/plain": [
       "<Figure size 432x288 with 1 Axes>"
      ]
     },
     "metadata": {
      "needs_background": "light"
     },
     "output_type": "display_data"
    },
    {
     "data": {
      "image/png": "[encoded data removed]",
      "text/plain": [
       "<Figure size 432x288 with 1 Axes>"
      ]
     },
     "metadata": {
      "needs_background": "light"
     },
     "output_type": "display_data"
    }
   ],
   "source": [
    "#### SWEEEP THROUGH NUMBER OF SPOTS AND SOLVE ####\n",
    "\n",
    "# constant parameters\n",
    "c = 3E8\n",
    "    \n",
    "# laser parameters\n",
    "pulseWidth = 1E-9 # must be larger than detector resolution\n",
    "\n",
    "# detector parameters\n",
    "detectorRes = 100E-12\n",
    "numPixels = 10\n",
    "det_x = np.linspace(-1.5, -0.5, numPixels)\n",
    "det_y = 2+det_x # detector wall\n",
    "\n",
    "# miscellaneous parameters\n",
    "maxDist = 3 * (np.max(det_x)**2 + np.max(det_y))**2\n",
    "numBins = np.ceil(((maxDist+2)/c) / detectorRes).astype(int)\n",
    "t = np.linspace(0, detectorRes * numBins, numBins)\n",
    "thresh = 1E-100\n",
    "numIters = 1000\n",
    "plotData = 0\n",
    "plotError = 0\n",
    "\n",
    "# spots to loop through\n",
    "minSpots = 3\n",
    "# maxSpots = 150\n",
    "maxSpots = 30\n",
    "    \n",
    "# loop through number of spots\n",
    "errors = []; pct_errors = []; numSpots_arr = [];\n",
    "for i in range(minSpots, maxSpots+1):\n",
    "    # laser parameters\n",
    "    numSpots = i\n",
    "    las_x = np.linspace(0.5, 1.5, numSpots)\n",
    "    las_y = 2-las_x # illumination wall \n",
    "    \n",
    "    # compute new visibility matrix\n",
    "    vis_gt = np.where(np.random.rand(numPixels, numSpots) > 0.5, 1, 0)\n",
    "\n",
    "    # calculate histograms\n",
    "    observations, hists = generateData(las_x, las_y, det_x, det_y, numSpots, numPixels, \n",
    "                 vis_gt, numBins, plotData, True, pulseWidth, t)\n",
    "\n",
    "    # instantiate model\n",
    "    m = Model()\n",
    "    \n",
    "    # Instantiate optimizer\n",
    "    opt = torch.optim.Adam(m.parameters(), lr=0.001)\n",
    "    losses = training_loop(m, hists, opt, thresh, numIters)\n",
    "    \n",
    "    # plot optimization loss\n",
    "    if plotError:\n",
    "        plt.figure(figsize=(14, 7))\n",
    "        plt.plot(losses)\n",
    "        \n",
    "    # estimated visibility matrix\n",
    "    v_reconst = torch.where(m.vis > 0.5, 1, 0).numpy()\n",
    "#     v_reconst = m.vis.detach().numpy()\n",
    "\n",
    "    # compare ground truth\n",
    "    error = np.sum(np.abs(v_reconst-vis_gt))\n",
    "    pct_error = 100 * error / (numSpots * numPixels)\n",
    "#     print(str(i) + ' spots --> Error: ' + str(pct_error) + ' %')\n",
    "    errors.append(error)\n",
    "    pct_errors.append(pct_error)\n",
    "    numSpots_arr.append(i)\n",
    "\n",
    "plt.figure(); plt.xlabel('numSpots'); plt.ylabel('Absolute Error')\n",
    "plt.plot(numSpots_arr, errors)\n",
    "plt.figure(); plt.xlabel('numSpots'); plt.ylabel('% Error')\n",
    "plt.plot(numSpots_arr, pct_errors)\n",
    "# print(errors[-1])\n",
    "# print(pct_errors[-1])\n",
    "# print(losses[-1])"
   ]
  },
  {
   "cell_type": "code",
   "execution_count": 6,
   "id": "5b3467fd",
   "metadata": {},
   "outputs": [],
   "source": [
    "# print(vis_gt)\n",
    "# print(v_reconst)\n",
    "# print(np.abs(np.sum(vis_gt-v_reconst)))"
   ]
  },
  {
   "cell_type": "code",
   "execution_count": 7,
   "id": "d00f80ae",
   "metadata": {},
   "outputs": [
    {
     "data": {
      "text/plain": [
       "Text(0.5, 1.0, 'Comparison of # of \"on\" sources')"
      ]
     },
     "execution_count": 7,
     "metadata": {},
     "output_type": "execute_result"
    },
    {
     "data": {
      "image/png": "[encoded data removed]",
      "text/plain": [
       "<Figure size 432x288 with 1 Axes>"
      ]
     },
     "metadata": {
      "needs_background": "light"
     },
     "output_type": "display_data"
    }
   ],
   "source": [
    "# plot for all entries\n",
    "a = np.sum(vis_gt, 1)\n",
    "b = np.sum(v_reconst, 1)\n",
    "min_err = min(np.min(a), np.min(b))\n",
    "max_err = max(np.max(a), np.max(b))\n",
    "x = np.linspace(min_err, max_err); y = x\n",
    "plt.figure()\n",
    "plt.plot(a, b, 'o')\n",
    "plt.plot(x, y, 'r')\n",
    "plt.legend(['experimental', 'ideal'])\n",
    "plt.xlabel('# of \"on\" sources (GT)')\n",
    "plt.ylabel('# of \"on\" sources (estimated)')\n",
    "plt.title('Comparison of # of \"on\" sources')"
   ]
  },
  {
   "cell_type": "code",
   "execution_count": 8,
   "id": "237c19bb",
   "metadata": {},
   "outputs": [
    {
     "data": {
      "text/plain": [
       "1.9"
      ]
     },
     "execution_count": 8,
     "metadata": {},
     "output_type": "execute_result"
    }
   ],
   "source": [
    "np.mean(np.abs(a-b))"
   ]
  },
  {
   "cell_type": "code",
   "execution_count": 9,
   "id": "afd09ae1",
   "metadata": {},
   "outputs": [
    {
     "data": {
      "text/plain": [
       "Text(0.5, 1.0, '# of \"on\" Sources (Only For Misclassified Entries)')"
      ]
     },
     "execution_count": 9,
     "metadata": {},
     "output_type": "execute_result"
    },
    {
     "data": {
      "image/png": "[encoded data removed]",
      "text/plain": [
       "<Figure size 432x288 with 1 Axes>"
      ]
     },
     "metadata": {
      "needs_background": "light"
     },
     "output_type": "display_data"
    }
   ],
   "source": [
    "# plot for only misclassified entries\n",
    "diff = np.abs(vis_gt - v_reconst)\n",
    "vis_gt_err = vis_gt * diff\n",
    "v_reconst_err = v_reconst * diff\n",
    "a_err = np.sum(vis_gt_err, 1)\n",
    "b_err = np.sum(v_reconst_err, 1)\n",
    "min_err = min(np.min(a_err), np.min(b_err))\n",
    "max_err = max(np.max(a_err), np.max(b_err))\n",
    "x_err = np.linspace(min_err, max_err); y_err = x_err\n",
    "plt.figure()\n",
    "plt.plot(a_err, b_err, 'o')\n",
    "plt.plot(x, y, 'r')\n",
    "plt.legend(['experimental', 'ideal'])\n",
    "plt.xlabel('# of \"on\" sources (GT)')\n",
    "plt.ylabel('# of \"on\" sources (estimated)')\n",
    "plt.title('# of \"on\" Sources (Only For Misclassified Entries)')"
   ]
  },
  {
   "cell_type": "code",
   "execution_count": 10,
   "id": "bd0b7fee",
   "metadata": {},
   "outputs": [
    {
     "data": {
      "text/plain": [
       "1.9"
      ]
     },
     "execution_count": 10,
     "metadata": {},
     "output_type": "execute_result"
    }
   ],
   "source": [
    "np.mean(np.abs(a_err-b_err))"
   ]
  },
  {
   "cell_type": "code",
   "execution_count": 11,
   "id": "85607c9f",
   "metadata": {},
   "outputs": [],
   "source": [
    "# ############## SWEEP NUMBER OF SPOTS ##################\n",
    "# errors = [];\n",
    "# for i in range(5, 6):\n",
    "#     # constant parameters\n",
    "#     c = 3E8;\n",
    "    \n",
    "#     # laser parameters\n",
    "#     pulseWidth = 1E-9; # must be larger than detector resolution\n",
    "#     numSpots = i;\n",
    "#     las_x = np.linspace(0.5, 1.5, numSpots);\n",
    "#     las_y = 2-las_x; # illumination wall \n",
    "    \n",
    "#     # detector parameters\n",
    "#     detectorRes = 300E-12; \n",
    "#     numPixels = 10;\n",
    "#     det_x = np.linspace(-1.5, -0.5, numPixels);\n",
    "#     det_y = 2+det_x; # detector wall\n",
    "    \n",
    "#     # miscellaneous parameters\n",
    "#     maxDist = 3 * (np.max(det_x)**2 + np.max(det_y))**2;\n",
    "#     vis_gt = np.where(np.random.rand(numPixels, numSpots) > 0.5, 1, 0);\n",
    "#     numBins = np.ceil(((maxDist+2)/c) / detectorRes).astype(int);\n",
    "#     t = np.linspace(0, detectorRes * numBins, numBins);\n",
    "#     plotDat = 1\n",
    "    \n",
    "#     # calculate histograms\n",
    "#     observations, hists = generateData(las_x, las_y, det_x, det_y, numSpots, numPixels, \n",
    "#                  vis_gt, numBins, plotDat, 'rect', pulseWidth, t)\n",
    "#     # compute visibility matrix via gradient descent\n",
    "# #     v_reconst = inverse(observations, hists, numPixels, numSpots, numBins);"
   ]
  }
 ],
 "metadata": {
  "kernelspec": {
   "display_name": "Python 3 (ipykernel)",
   "language": "python",
   "name": "python3"
  },
  "language_info": {
   "codemirror_mode": {
    "name": "ipython",
    "version": 3
   },
   "file_extension": ".py",
   "mimetype": "text/x-python",
   "name": "python",
   "nbconvert_exporter": "python",
   "pygments_lexer": "ipython3",
   "version": "3.9.7"
  }
 },
 "nbformat": 4,
 "nbformat_minor": 5
}
