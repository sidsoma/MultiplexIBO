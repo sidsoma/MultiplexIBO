{
 "cells": [
  {
   "cell_type": "code",
   "execution_count": 1,
   "id": "03a7b21e",
   "metadata": {},
   "outputs": [],
   "source": [
    "import torch\n",
    "import numpy as np\n",
    "import matplotlib.pyplot as plt\n",
    "from scipy.signal import find_peaks, peak_widths\n",
    "import sys\n",
    "import math\n",
    "np.set_printoptions(threshold=sys.maxsize)\n",
    "\n",
    "from optim import Model, training_loop\n",
    "from generateData import generateData\n",
    "from helper import computeVisibility, pulse, matchFilt\n",
    "from shape import carving"
   ]
  },
  {
   "cell_type": "code",
   "execution_count": 2,
   "id": "9df71508",
   "metadata": {},
   "outputs": [],
   "source": [
    "def generateDataFast(las_x, las_y, det_x, det_y, visibility, numBins, plotData, plotSetup, usePulse=True, pctNoise=0, jitter=0, pulseWidth=None, t=None):  \n",
    "    ############\n",
    "    # INPUTS: \n",
    "    #   visibility = numPixels x numSpots\n",
    "    # OUTPUTS:\n",
    "    #   hists = numPixels x numSpots x numBins tensor\n",
    "    #   observations = numPixels x numBins tensor\n",
    "    ############\n",
    "    # constant variables\n",
    "    c = 3E8   \n",
    "    numSpots = len(las_x)\n",
    "    numPixels = len(det_x)\n",
    "    \n",
    "    det_x = np.tile(np.reshape(det_x, (numPixels, 1)), (1, numSpots))\n",
    "    det_y = np.tile(np.reshape(det_y, (numPixels, 1)), (1, numSpots))\n",
    "\n",
    "    las_x = np.tile(np.reshape(las_x, (1, numSpots)), (numPixels, 1))\n",
    "    las_y = np.tile(np.reshape(las_y, (1, numSpots)), (numPixels, 1))\n",
    "    \n",
    "    # compute tof\n",
    "    pathLen = (las_x**2 + las_y**2)**0.5 + ((las_x-det_x)**2 + (las_y-det_y)**2)**0.5 + (det_x**2+det_y**2)**0.5\n",
    "    tof = np.reshape(pathLen / c, (numPixels, numSpots, 1))\n",
    "    \n",
    "    # create array of pulses\n",
    "    t, a = pulse(0, numBins)\n",
    "    a = np.reshape(a, (1, 1, numBins))\n",
    "    pulseArr = np.tile(a, (numPixels, numSpots, 1))\n",
    "    \n",
    "    # shift pulses by t0\n",
    "    pulses_fft = np.fft.fft(pulseArr)\n",
    "    f = np.reshape(np.fft.fftfreq(len(t), 100E-12), (1, 1, numBins))\n",
    "    f = np.tile(f, (numPixels, numSpots, 1))\n",
    "    trans = pulses_fft * np.exp(-1j * 2*math.pi*f*tof)\n",
    "    hists = np.real(np.fft.ifft(trans))\n",
    "    \n",
    "    visibility = np.reshape(visibility, (numPixels, numSpots, 1))\n",
    "    if jitter != 0:\n",
    "        noisy_tof = tof + jitter*np.random.normal(0, 1, (numPixels, numSpots))\n",
    "        trans = pulses_fft * np.exp(-1j * 2*math.pi*f*noisy_tof)\n",
    "        jitter_hists = np.real(np.fft.ifft(trans))\n",
    "        observations = np.sum(jitter_hists * visibility, axis = 1)\n",
    "    else: \n",
    "        observations = np.sum(hists * visibility, axis = 1)\n",
    "            \n",
    "    return observations, hists"
   ]
  },
  {
   "cell_type": "code",
   "execution_count": 3,
   "id": "9aee1bb3",
   "metadata": {},
   "outputs": [],
   "source": [
    "#####################################################################\n",
    "############################# PARAMETERS ############################\n",
    "#####################################################################\n",
    "\n",
    "# laser parameters\n",
    "numSpots = 150\n",
    "# las_x = np.linspace(0.5, 1.5, numSpots)\n",
    "# las_y = 2-las_x # illumination wall \n",
    "las_x = 1.25 * np.ones(numSpots)\n",
    "las_y = np.linspace(0.25, 1.75, numSpots)\n",
    "usePulse = True\n",
    "pulseWidth = 1E-9 # only applicable for rectangular pulse\n",
    "\n",
    "# detector parameters\n",
    "numPixels = 150\n",
    "# det_x = np.linspace(-1.5, -0.5, numPixels)\n",
    "# det_y = 2+det_x # detector wall\n",
    "det_x = -1.25 * np.ones(numPixels)\n",
    "det_y = np.linspace(0.25, 1.75, numPixels)\n",
    "detectorRes = 100E-12 # if this increases, need to subsample pulse\n",
    "\n",
    "# noise parameters\n",
    "pctNoise = 0\n",
    "jitter = 0\n",
    "\n",
    "# optimization parameters\n",
    "numIters = 3000\n",
    "thresh = 1E-100\n",
    "lr_rate = 0.001\n",
    "\n",
    "# plotting parameters\n",
    "plotData = False\n",
    "plotError = False\n",
    "plotSetup = True\n",
    "\n",
    "# constant parameters\n",
    "c = 3E8\n",
    "    \n",
    "# miscellaneous parameters\n",
    "maxDist = 3 * (np.max(det_x**2) + np.max(det_y**2))\n",
    "numBins = np.ceil(((maxDist+2)/c) / detectorRes).astype(int)\n",
    "t = np.linspace(0, detectorRes * numBins, numBins)"
   ]
  },
  {
   "cell_type": "code",
   "execution_count": 4,
   "id": "602d129b",
   "metadata": {},
   "outputs": [
    {
     "name": "stdout",
     "output_type": "stream",
     "text": [
      "29.001595291999998\n",
      "1.2431720410000011\n"
     ]
    },
    {
     "data": {
      "image/png": "[encoded data removed]",
      "text/plain": [
       "<Figure size 432x288 with 1 Axes>"
      ]
     },
     "metadata": {
      "needs_background": "light"
     },
     "output_type": "display_data"
    }
   ],
   "source": [
    "from timeit import default_timer as timer\n",
    "vis_gt = computeVisibility(las_x, las_y, det_x, det_y, 0, 0.75, 1.25)\n",
    "start = timer()\n",
    "observations, hists = generateData(las_x, las_y, det_x, det_y, vis_gt, numBins, \n",
    "                                   plotData, plotSetup, usePulse, pctNoise, jitter, pulseWidth, t)\n",
    "end = timer()\n",
    "print(end - start)\n",
    "start = timer()\n",
    "observ2, hists2 = generateDataFast(las_x, las_y, det_x, det_y, vis_gt, numBins, \n",
    "                                   plotData, plotSetup, usePulse, pctNoise, jitter, pulseWidth, t)\n",
    "end = timer()\n",
    "print(end-start)"
   ]
  },
  {
   "cell_type": "code",
   "execution_count": 5,
   "id": "070cf4ed",
   "metadata": {},
   "outputs": [],
   "source": [
    "def computeVisibilityFast(las_x, las_y, det_x, det_y, x, y1, y2):\n",
    "    numPixels = len(det_x)\n",
    "    numSpots = len(las_x)\n",
    "    \n",
    "    det_x = np.tile(np.reshape(det_x, (numPixels, 1)), (1, numSpots))\n",
    "    det_y = np.tile(np.reshape(det_y, (numPixels, 1)), (1, numSpots))\n",
    "\n",
    "    las_x = np.tile(np.reshape(las_x, (1, numSpots)), (numPixels, 1))\n",
    "    las_y = np.tile(np.reshape(las_y, (1, numSpots)), (numPixels, 1))\n",
    "    \n",
    "    m = (det_y - las_y) / (det_x - las_x)\n",
    "    y = m * (x - det_x) + det_y\n",
    "    \n",
    "    vis =  1 - ((y >= y1) & (y <= y2))\n",
    "    return vis "
   ]
  },
  {
   "cell_type": "code",
   "execution_count": 6,
   "id": "30818bc6",
   "metadata": {},
   "outputs": [
    {
     "name": "stdout",
     "output_type": "stream",
     "text": [
      "0.028261874999998327\n",
      "0.0018181670000032568\n",
      "0.0\n"
     ]
    }
   ],
   "source": [
    "start = timer()\n",
    "vis_gt = computeVisibility(las_x, las_y, det_x, det_y, 0, 0.75, 1.25)\n",
    "end = timer()\n",
    "print(end - start)\n",
    "start = timer()\n",
    "vis_fast = computeVisibilityFast(las_x, las_y, det_x, det_y, 0, 0.75, 1.25)\n",
    "end = timer()\n",
    "print(end-start)\n",
    "print(np.sum(np.abs(vis_gt - vis_fast)))"
   ]
  },
  {
   "cell_type": "code",
   "execution_count": 7,
   "id": "e4a2a48e",
   "metadata": {},
   "outputs": [
    {
     "name": "stdout",
     "output_type": "stream",
     "text": [
      "(150, 150)\n"
     ]
    }
   ],
   "source": [
    "print(vis_gt.shape)"
   ]
  },
  {
   "cell_type": "code",
   "execution_count": 8,
   "id": "96578f1f",
   "metadata": {},
   "outputs": [
    {
     "data": {
      "text/plain": [
       "(150, 150)"
      ]
     },
     "execution_count": 8,
     "metadata": {},
     "output_type": "execute_result"
    }
   ],
   "source": [
    "vis_fast.shape"
   ]
  },
  {
   "cell_type": "code",
   "execution_count": null,
   "id": "1a4f6694",
   "metadata": {},
   "outputs": [],
   "source": []
  }
 ],
 "metadata": {
  "kernelspec": {
   "display_name": "Python 3 (ipykernel)",
   "language": "python",
   "name": "python3"
  },
  "language_info": {
   "codemirror_mode": {
    "name": "ipython",
    "version": 3
   },
   "file_extension": ".py",
   "mimetype": "text/x-python",
   "name": "python",
   "nbconvert_exporter": "python",
   "pygments_lexer": "ipython3",
   "version": "3.9.7"
  }
 },
 "nbformat": 4,
 "nbformat_minor": 5
}
